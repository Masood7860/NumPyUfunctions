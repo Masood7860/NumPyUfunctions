{
 "cells": [
  {
   "cell_type": "markdown",
   "id": "0f0d8d3f",
   "metadata": {},
   "source": [
    "# Differences"
   ]
  },
  {
   "cell_type": "raw",
   "id": "47883039",
   "metadata": {},
   "source": [
    "A discrete difference means subtracting two successive elements."
   ]
  },
  {
   "cell_type": "raw",
   "id": "503dc13f",
   "metadata": {},
   "source": [
    "E.g. for [1, 2, 3, 4], the discrete difference would be [2-1, 3-2, 4-3] = [1, 1, 1]"
   ]
  },
  {
   "cell_type": "raw",
   "id": "2572d21e",
   "metadata": {},
   "source": [
    "To find the discrete difference, use the diff() function."
   ]
  },
  {
   "cell_type": "code",
   "execution_count": 1,
   "id": "4a148114",
   "metadata": {},
   "outputs": [
    {
     "name": "stdout",
     "output_type": "stream",
     "text": [
      "[  5  10 -20]\n"
     ]
    }
   ],
   "source": [
    "# Compute discrete difference of the following array:\n",
    "\n",
    "import numpy as np\n",
    "\n",
    "arr = np.array([10, 15, 25, 5])\n",
    "\n",
    "newarr = np.diff(arr)\n",
    "\n",
    "print(newarr) "
   ]
  },
  {
   "cell_type": "raw",
   "id": "d32eb5a1",
   "metadata": {},
   "source": [
    "Returns: [5 10 -20] because 15-10=5, 25-15=10, and 5-25=-20"
   ]
  },
  {
   "cell_type": "raw",
   "id": "c9d6a839",
   "metadata": {},
   "source": [
    "We can perform this operation repeatedly by giving parameter n."
   ]
  },
  {
   "cell_type": "raw",
   "id": "67707615",
   "metadata": {},
   "source": [
    " E.g. for [1, 2, 3, 4], the discrete difference with n = 2 would be [2-1, 3-2, 4-3] = [1, 1, 1] , then, since n=2, we will do it once more, with the new result: [1-1, 1-1] = [0, 0] "
   ]
  },
  {
   "cell_type": "code",
   "execution_count": 2,
   "id": "d75025b6",
   "metadata": {},
   "outputs": [
    {
     "name": "stdout",
     "output_type": "stream",
     "text": [
      "[  5 -30]\n"
     ]
    }
   ],
   "source": [
    "# Compute discrete difference of the following array twice:\n",
    "\n",
    "import numpy as np\n",
    "\n",
    "arr = np.array([10, 15, 25, 5])\n",
    "\n",
    "newarr = np.diff(arr, n=2)\n",
    "\n",
    "print(newarr) "
   ]
  },
  {
   "cell_type": "raw",
   "id": "6c887a5b",
   "metadata": {},
   "source": [
    "Returns: [5 -30] because: 15-10=5, 25-15=10, and 5-25=-20 AND 10-5=5 and -20-10=-30"
   ]
  }
 ],
 "metadata": {
  "kernelspec": {
   "display_name": "Python 3",
   "language": "python",
   "name": "python3"
  },
  "language_info": {
   "codemirror_mode": {
    "name": "ipython",
    "version": 3
   },
   "file_extension": ".py",
   "mimetype": "text/x-python",
   "name": "python",
   "nbconvert_exporter": "python",
   "pygments_lexer": "ipython3",
   "version": "3.8.8"
  }
 },
 "nbformat": 4,
 "nbformat_minor": 5
}
