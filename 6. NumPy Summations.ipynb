{
 "cells": [
  {
   "cell_type": "markdown",
   "id": "eec462cc",
   "metadata": {},
   "source": [
    "# Summations"
   ]
  },
  {
   "cell_type": "raw",
   "id": "7274daa8",
   "metadata": {},
   "source": [
    "What is the difference between summation and addition?"
   ]
  },
  {
   "cell_type": "raw",
   "id": "84f5d48a",
   "metadata": {},
   "source": [
    "Addition is done between two arguments whereas summation happens over n elements."
   ]
  },
  {
   "cell_type": "code",
   "execution_count": 1,
   "id": "8e59ec5b",
   "metadata": {},
   "outputs": [
    {
     "name": "stdout",
     "output_type": "stream",
     "text": [
      "[2 4 6]\n"
     ]
    }
   ],
   "source": [
    "# Add the values in arr1 to the values in arr2:\n",
    "\n",
    "import numpy as np\n",
    "\n",
    "arr1 = np.array([1, 2, 3])\n",
    "arr2 = np.array([1, 2, 3])\n",
    "\n",
    "newarr = np.add(arr1, arr2)\n",
    "\n",
    "print(newarr) "
   ]
  },
  {
   "cell_type": "raw",
   "id": "be7e6aee",
   "metadata": {},
   "source": [
    "Returns: [2 4 6]"
   ]
  },
  {
   "cell_type": "code",
   "execution_count": 2,
   "id": "23a35a36",
   "metadata": {},
   "outputs": [
    {
     "name": "stdout",
     "output_type": "stream",
     "text": [
      "12\n"
     ]
    }
   ],
   "source": [
    "# Sum the values in arr1 and the values in arr2:\n",
    "\n",
    "import numpy as np\n",
    "\n",
    "arr1 = np.array([1, 2, 3])\n",
    "arr2 = np.array([1, 2, 3])\n",
    "\n",
    "newarr = np.sum([arr1, arr2])\n",
    "\n",
    "print(newarr) "
   ]
  },
  {
   "cell_type": "raw",
   "id": "abcc541d",
   "metadata": {},
   "source": [
    "Returns: 12"
   ]
  },
  {
   "cell_type": "markdown",
   "id": "e81deae7",
   "metadata": {},
   "source": [
    "# Summation Over an Axis"
   ]
  },
  {
   "cell_type": "raw",
   "id": "598a0b04",
   "metadata": {},
   "source": [
    "If you specify axis=1, NumPy will sum the numbers in each array."
   ]
  },
  {
   "cell_type": "code",
   "execution_count": 3,
   "id": "6f4335c5",
   "metadata": {},
   "outputs": [
    {
     "name": "stdout",
     "output_type": "stream",
     "text": [
      "[6 6]\n"
     ]
    }
   ],
   "source": [
    "# Perform summation in the following array over 1st axis:\n",
    "\n",
    "import numpy as np\n",
    "\n",
    "arr1 = np.array([1, 2, 3])\n",
    "arr2 = np.array([1, 2, 3])\n",
    "\n",
    "newarr = np.sum([arr1, arr2], axis=1)\n",
    "\n",
    "print(newarr) "
   ]
  },
  {
   "cell_type": "raw",
   "id": "0a1f3b50",
   "metadata": {},
   "source": [
    "Returns: [6 6]"
   ]
  },
  {
   "cell_type": "markdown",
   "id": "18c646fb",
   "metadata": {},
   "source": [
    "# Cummulative Sum"
   ]
  },
  {
   "cell_type": "raw",
   "id": "ffff2600",
   "metadata": {},
   "source": [
    "Cummulative sum means partially adding the elements in array."
   ]
  },
  {
   "cell_type": "raw",
   "id": "f47746b5",
   "metadata": {},
   "source": [
    "E.g. The partial sum of [1, 2, 3, 4] would be [1, 1+2, 1+2+3, 1+2+3+4] = [1, 3, 6, 10]."
   ]
  },
  {
   "cell_type": "raw",
   "id": "5dae2bc6",
   "metadata": {},
   "source": [
    "Perfom partial sum with the cumsum() function."
   ]
  },
  {
   "cell_type": "code",
   "execution_count": 4,
   "id": "63915863",
   "metadata": {},
   "outputs": [
    {
     "name": "stdout",
     "output_type": "stream",
     "text": [
      "[1 3 6]\n"
     ]
    }
   ],
   "source": [
    "# Perform cummulative summation in the following array:\n",
    "\n",
    "import numpy as np\n",
    "\n",
    "arr = np.array([1, 2, 3])\n",
    "\n",
    "newarr = np.cumsum(arr)\n",
    "\n",
    "print(newarr) "
   ]
  },
  {
   "cell_type": "raw",
   "id": "d2ee3259",
   "metadata": {},
   "source": [
    "Returns: [1 3 6]"
   ]
  }
 ],
 "metadata": {
  "kernelspec": {
   "display_name": "Python 3",
   "language": "python",
   "name": "python3"
  },
  "language_info": {
   "codemirror_mode": {
    "name": "ipython",
    "version": 3
   },
   "file_extension": ".py",
   "mimetype": "text/x-python",
   "name": "python",
   "nbconvert_exporter": "python",
   "pygments_lexer": "ipython3",
   "version": "3.8.8"
  }
 },
 "nbformat": 4,
 "nbformat_minor": 5
}
