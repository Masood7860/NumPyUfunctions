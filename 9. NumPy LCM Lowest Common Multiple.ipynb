{
 "cells": [
  {
   "cell_type": "markdown",
   "id": "3706bcb5",
   "metadata": {},
   "source": [
    "# Finding LCM (Lowest Common Multiple)"
   ]
  },
  {
   "cell_type": "raw",
   "id": "57bb1d37",
   "metadata": {},
   "source": [
    "The Lowest Common Multiple is the smallest number that is a common multiple of two numbers."
   ]
  },
  {
   "cell_type": "code",
   "execution_count": 1,
   "id": "d326593d",
   "metadata": {},
   "outputs": [
    {
     "name": "stdout",
     "output_type": "stream",
     "text": [
      "12\n"
     ]
    }
   ],
   "source": [
    "# Find the LCM of the following two numbers:\n",
    "\n",
    "import numpy as np\n",
    "\n",
    "num1 = 4\n",
    "num2 = 6\n",
    "\n",
    "x = np.lcm(num1, num2)\n",
    "\n",
    "print(x) "
   ]
  },
  {
   "cell_type": "raw",
   "id": "c69a55ac",
   "metadata": {},
   "source": [
    "Returns: 12 because that is the lowest common multiple of both numbers (4*3=12 and 6*2=12)."
   ]
  },
  {
   "cell_type": "markdown",
   "id": "6c99a3ae",
   "metadata": {},
   "source": [
    "# Finding LCM in Arrays"
   ]
  },
  {
   "cell_type": "raw",
   "id": "769d6030",
   "metadata": {},
   "source": [
    "To find the Lowest Common Multiple of all values in an array, you can use the reduce() method."
   ]
  },
  {
   "cell_type": "raw",
   "id": "0ebb9d2c",
   "metadata": {},
   "source": [
    "The reduce() method will use the ufunc, in this case the lcm() function, on each element, and reduce the array by one dimension."
   ]
  },
  {
   "cell_type": "code",
   "execution_count": 2,
   "id": "9432882a",
   "metadata": {},
   "outputs": [
    {
     "name": "stdout",
     "output_type": "stream",
     "text": [
      "18\n"
     ]
    }
   ],
   "source": [
    "# Find the LCM of the values of the following array:\n",
    "\n",
    "import numpy as np\n",
    "\n",
    "arr = np.array([3, 6, 9])\n",
    "\n",
    "x = np.lcm.reduce(arr)\n",
    "\n",
    "print(x) "
   ]
  },
  {
   "cell_type": "raw",
   "id": "dac0858e",
   "metadata": {},
   "source": [
    "Returns: 18 because that is the lowest common multiple of all three numbers (3*6=18, 6*3=18 and 9*2=18)."
   ]
  },
  {
   "cell_type": "code",
   "execution_count": 3,
   "id": "ad4d4560",
   "metadata": {},
   "outputs": [
    {
     "name": "stdout",
     "output_type": "stream",
     "text": [
      "2520\n"
     ]
    }
   ],
   "source": [
    "# Find the LCM of all values of an array where the array contains all integers from 1 to 10:\n",
    "\n",
    "import numpy as np\n",
    "\n",
    "arr = np.arange(1, 11)\n",
    "\n",
    "x = np.lcm.reduce(arr)\n",
    "\n",
    "print(x) "
   ]
  }
 ],
 "metadata": {
  "kernelspec": {
   "display_name": "Python 3",
   "language": "python",
   "name": "python3"
  },
  "language_info": {
   "codemirror_mode": {
    "name": "ipython",
    "version": 3
   },
   "file_extension": ".py",
   "mimetype": "text/x-python",
   "name": "python",
   "nbconvert_exporter": "python",
   "pygments_lexer": "ipython3",
   "version": "3.8.8"
  }
 },
 "nbformat": 4,
 "nbformat_minor": 5
}
