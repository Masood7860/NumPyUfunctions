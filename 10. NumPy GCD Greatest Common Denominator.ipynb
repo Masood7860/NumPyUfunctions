{
 "cells": [
  {
   "cell_type": "markdown",
   "id": "d360f53c",
   "metadata": {},
   "source": [
    "# Finding GCD (Greatest Common Denominator)"
   ]
  },
  {
   "cell_type": "raw",
   "id": "71aa3ba3",
   "metadata": {},
   "source": [
    "The GCD (Greatest Common Denominator), also known as HCF (Highest Common Factor) is the biggest number that is a common factor of both of the numbers."
   ]
  },
  {
   "cell_type": "code",
   "execution_count": 1,
   "id": "a8f6cc91",
   "metadata": {},
   "outputs": [
    {
     "name": "stdout",
     "output_type": "stream",
     "text": [
      "3\n"
     ]
    }
   ],
   "source": [
    "# Find the HCF of the following two numbers:\n",
    "\n",
    "import numpy as np\n",
    "\n",
    "num1 = 6\n",
    "num2 = 9\n",
    "\n",
    "x = np.gcd(num1, num2)\n",
    "\n",
    "print(x) "
   ]
  },
  {
   "cell_type": "raw",
   "id": "b4c48dc8",
   "metadata": {},
   "source": [
    "Returns: 3 because that is the highest number both numbers can be divided by (6/3=2 and 9/3=3)."
   ]
  },
  {
   "cell_type": "markdown",
   "id": "ea0b8c72",
   "metadata": {},
   "source": [
    "# Finding GCD in Arrays"
   ]
  },
  {
   "cell_type": "raw",
   "id": "ad334e78",
   "metadata": {},
   "source": [
    "To find the Highest Common Factor of all values in an array, you can use the reduce() method."
   ]
  },
  {
   "cell_type": "raw",
   "id": "8d86e878",
   "metadata": {},
   "source": [
    "The reduce() method will use the ufunc, in this case the gcd() function, on each element, and reduce the array by one dimension."
   ]
  },
  {
   "cell_type": "code",
   "execution_count": 2,
   "id": "e5535548",
   "metadata": {},
   "outputs": [
    {
     "name": "stdout",
     "output_type": "stream",
     "text": [
      "4\n"
     ]
    }
   ],
   "source": [
    "# Find the GCD for all of the numbers in the following array:\n",
    "\n",
    "import numpy as np\n",
    "\n",
    "arr = np.array([20, 8, 32, 36, 16])\n",
    "\n",
    "x = np.gcd.reduce(arr)\n",
    "\n",
    "print(x) "
   ]
  },
  {
   "cell_type": "raw",
   "id": "6bcb9119",
   "metadata": {},
   "source": [
    "Returns: 4 because that is the highest number all values can be divided by."
   ]
  }
 ],
 "metadata": {
  "kernelspec": {
   "display_name": "Python 3",
   "language": "python",
   "name": "python3"
  },
  "language_info": {
   "codemirror_mode": {
    "name": "ipython",
    "version": 3
   },
   "file_extension": ".py",
   "mimetype": "text/x-python",
   "name": "python",
   "nbconvert_exporter": "python",
   "pygments_lexer": "ipython3",
   "version": "3.8.8"
  }
 },
 "nbformat": 4,
 "nbformat_minor": 5
}
