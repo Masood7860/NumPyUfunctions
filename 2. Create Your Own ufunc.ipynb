{
 "cells": [
  {
   "cell_type": "markdown",
   "id": "8cc14135",
   "metadata": {},
   "source": [
    "# Create Your Own ufunc"
   ]
  },
  {
   "cell_type": "markdown",
   "id": "1a1e90cb",
   "metadata": {},
   "source": [
    "# How To Create Your Own ufunc"
   ]
  },
  {
   "cell_type": "raw",
   "id": "e57c8d62",
   "metadata": {},
   "source": [
    "To create your own ufunc, you have to define a function, like you do with normal functions in Python, then you add it to your NumPy ufunc library with the frompyfunc() method."
   ]
  },
  {
   "cell_type": "raw",
   "id": "028be7c5",
   "metadata": {},
   "source": [
    "The frompyfunc() method takes the following arguments:\n",
    "\n",
    "    function - the name of the function.\n",
    "    inputs - the number of input arguments (arrays).\n",
    "    outputs - the number of output arrays."
   ]
  },
  {
   "cell_type": "code",
   "execution_count": 1,
   "id": "abe0cca4",
   "metadata": {},
   "outputs": [
    {
     "name": "stdout",
     "output_type": "stream",
     "text": [
      "[6 8 10 12]\n"
     ]
    }
   ],
   "source": [
    "# Create your own ufunc for addition:\n",
    "\n",
    "import numpy as np\n",
    "\n",
    "def myadd(x, y):\n",
    "    return x+y\n",
    "\n",
    "myadd = np.frompyfunc(myadd, 2, 1)\n",
    "\n",
    "print(myadd([1, 2, 3, 4], [5, 6, 7, 8])) "
   ]
  },
  {
   "cell_type": "markdown",
   "id": "3f9fc65b",
   "metadata": {},
   "source": [
    "# Check if a Function is a ufunc"
   ]
  },
  {
   "cell_type": "raw",
   "id": "1b5427a5",
   "metadata": {},
   "source": [
    "Check the type of a function to check if it is a ufunc or not."
   ]
  },
  {
   "cell_type": "raw",
   "id": "c42c02a5",
   "metadata": {},
   "source": [
    "A ufunc should return <class 'numpy.ufunc'>."
   ]
  },
  {
   "cell_type": "code",
   "execution_count": 2,
   "id": "001f4841",
   "metadata": {},
   "outputs": [
    {
     "name": "stdout",
     "output_type": "stream",
     "text": [
      "<class 'numpy.ufunc'>\n"
     ]
    }
   ],
   "source": [
    "# Check if a function is a ufunc:\n",
    "\n",
    "import numpy as np\n",
    "\n",
    "print(type(np.add)) "
   ]
  },
  {
   "cell_type": "raw",
   "id": "5cbb77ac",
   "metadata": {},
   "source": [
    "If it is not a ufunc, it will return another type, like this built-in NumPy function for joining two or more arrays:"
   ]
  },
  {
   "cell_type": "code",
   "execution_count": 3,
   "id": "97bc5410",
   "metadata": {},
   "outputs": [
    {
     "name": "stdout",
     "output_type": "stream",
     "text": [
      "<class 'function'>\n"
     ]
    }
   ],
   "source": [
    "# Check the type of another function: concatenate():\n",
    "\n",
    "import numpy as np\n",
    "\n",
    "print(type(np.concatenate)) "
   ]
  },
  {
   "cell_type": "raw",
   "id": "da950016",
   "metadata": {},
   "source": [
    "If the function is not recognized at all, it will return an error:"
   ]
  },
  {
   "cell_type": "code",
   "execution_count": 4,
   "id": "f1e4f109",
   "metadata": {},
   "outputs": [
    {
     "ename": "AttributeError",
     "evalue": "module 'numpy' has no attribute 'blahblah'",
     "output_type": "error",
     "traceback": [
      "\u001b[1;31m---------------------------------------------------------------------------\u001b[0m",
      "\u001b[1;31mAttributeError\u001b[0m                            Traceback (most recent call last)",
      "\u001b[1;32m<ipython-input-4-005560c55657>\u001b[0m in \u001b[0;36m<module>\u001b[1;34m\u001b[0m\n\u001b[0;32m      3\u001b[0m \u001b[1;32mimport\u001b[0m \u001b[0mnumpy\u001b[0m \u001b[1;32mas\u001b[0m \u001b[0mnp\u001b[0m\u001b[1;33m\u001b[0m\u001b[1;33m\u001b[0m\u001b[0m\n\u001b[0;32m      4\u001b[0m \u001b[1;33m\u001b[0m\u001b[0m\n\u001b[1;32m----> 5\u001b[1;33m \u001b[0mprint\u001b[0m\u001b[1;33m(\u001b[0m\u001b[0mtype\u001b[0m\u001b[1;33m(\u001b[0m\u001b[0mnp\u001b[0m\u001b[1;33m.\u001b[0m\u001b[0mblahblah\u001b[0m\u001b[1;33m)\u001b[0m\u001b[1;33m)\u001b[0m\u001b[1;33m\u001b[0m\u001b[1;33m\u001b[0m\u001b[0m\n\u001b[0m",
      "\u001b[1;32m~\\anaconda3\\lib\\site-packages\\numpy\\__init__.py\u001b[0m in \u001b[0;36m__getattr__\u001b[1;34m(attr)\u001b[0m\n\u001b[0;32m    301\u001b[0m                 \u001b[1;32mreturn\u001b[0m \u001b[0mTester\u001b[0m\u001b[1;33m\u001b[0m\u001b[1;33m\u001b[0m\u001b[0m\n\u001b[0;32m    302\u001b[0m \u001b[1;33m\u001b[0m\u001b[0m\n\u001b[1;32m--> 303\u001b[1;33m             raise AttributeError(\"module {!r} has no attribute \"\n\u001b[0m\u001b[0;32m    304\u001b[0m                                  \"{!r}\".format(__name__, attr))\n\u001b[0;32m    305\u001b[0m \u001b[1;33m\u001b[0m\u001b[0m\n",
      "\u001b[1;31mAttributeError\u001b[0m: module 'numpy' has no attribute 'blahblah'"
     ]
    }
   ],
   "source": [
    "# Check the type of something that does not exist. This will produce an error:\n",
    "\n",
    "import numpy as np\n",
    "\n",
    "print(type(np.blahblah)) "
   ]
  },
  {
   "cell_type": "raw",
   "id": "84eb06ad",
   "metadata": {},
   "source": [
    "To test if the function is a ufunc in an if statement, use the numpy.ufunc value (or np.ufunc if you use np as an alias for numpy):"
   ]
  },
  {
   "cell_type": "code",
   "execution_count": 5,
   "id": "b6c1ad50",
   "metadata": {},
   "outputs": [
    {
     "name": "stdout",
     "output_type": "stream",
     "text": [
      "add is ufunc\n"
     ]
    }
   ],
   "source": [
    "# Use an if statement to check if the function is a ufunc or not:\n",
    "\n",
    "import numpy as np\n",
    "\n",
    "if type(np.add) == np.ufunc:\n",
    "    print('add is ufunc')\n",
    "else:\n",
    "    print('add is not ufunc') "
   ]
  }
 ],
 "metadata": {
  "kernelspec": {
   "display_name": "Python 3",
   "language": "python",
   "name": "python3"
  },
  "language_info": {
   "codemirror_mode": {
    "name": "ipython",
    "version": 3
   },
   "file_extension": ".py",
   "mimetype": "text/x-python",
   "name": "python",
   "nbconvert_exporter": "python",
   "pygments_lexer": "ipython3",
   "version": "3.8.8"
  }
 },
 "nbformat": 4,
 "nbformat_minor": 5
}
