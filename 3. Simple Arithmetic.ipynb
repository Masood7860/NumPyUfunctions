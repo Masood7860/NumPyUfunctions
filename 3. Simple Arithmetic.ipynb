{
 "cells": [
  {
   "cell_type": "markdown",
   "id": "f03d423c",
   "metadata": {},
   "source": [
    "# Simple Arithmetic"
   ]
  },
  {
   "cell_type": "raw",
   "id": "97ff4be1",
   "metadata": {},
   "source": [
    "You could use arithmetic operators + - * / directly between NumPy arrays, but this section discusses an extension of the same where we have functions that can take any array-like objects e.g. lists, tuples etc. and perform arithmetic conditionally."
   ]
  },
  {
   "cell_type": "raw",
   "id": "a79ef3a9",
   "metadata": {},
   "source": [
    "Arithmetic Conditionally: means that we can define conditions where the arithmetic operation should happen."
   ]
  },
  {
   "cell_type": "raw",
   "id": "3f3d46f5",
   "metadata": {},
   "source": [
    "All of the discussed arithmetic functions take a where parameter in which we can specify that condition."
   ]
  },
  {
   "cell_type": "markdown",
   "id": "474292a0",
   "metadata": {},
   "source": [
    "# Addition"
   ]
  },
  {
   "cell_type": "raw",
   "id": "c4d520fa",
   "metadata": {},
   "source": [
    "The add() function sums the content of two arrays, and return the results in a new array."
   ]
  },
  {
   "cell_type": "code",
   "execution_count": 1,
   "id": "8ee21f93",
   "metadata": {},
   "outputs": [
    {
     "name": "stdout",
     "output_type": "stream",
     "text": [
      "[30 32 34 36 38 40]\n"
     ]
    }
   ],
   "source": [
    "# Add the values in arr1 to the values in arr2:\n",
    "\n",
    "import numpy as np\n",
    "\n",
    "arr1 = np.array([10, 11, 12, 13, 14, 15])\n",
    "arr2 = np.array([20, 21, 22, 23, 24, 25])\n",
    "\n",
    "newarr = np.add(arr1, arr2)\n",
    "\n",
    "print(newarr) "
   ]
  },
  {
   "cell_type": "raw",
   "id": "258bdd42",
   "metadata": {},
   "source": [
    "The example above will return [30 32 34 36 38 40] which is the sums of 10+20, 11+21, 12+22 etc."
   ]
  },
  {
   "cell_type": "markdown",
   "id": "0b9b9866",
   "metadata": {},
   "source": [
    "# Subtraction"
   ]
  },
  {
   "cell_type": "raw",
   "id": "871024af",
   "metadata": {},
   "source": [
    "The subtract() function subtracts the values from one array with the values from another array, and return the results in a new array."
   ]
  },
  {
   "cell_type": "code",
   "execution_count": 2,
   "id": "28767f08",
   "metadata": {},
   "outputs": [
    {
     "name": "stdout",
     "output_type": "stream",
     "text": [
      "[-10  -1   8  17  26  35]\n"
     ]
    }
   ],
   "source": [
    "# Subtract the values in arr2 from the values in arr1:\n",
    "\n",
    "import numpy as np\n",
    "\n",
    "arr1 = np.array([10, 20, 30, 40, 50, 60])\n",
    "arr2 = np.array([20, 21, 22, 23, 24, 25])\n",
    "\n",
    "newarr = np.subtract(arr1, arr2)\n",
    "\n",
    "print(newarr) "
   ]
  },
  {
   "cell_type": "raw",
   "id": "ba59b179",
   "metadata": {},
   "source": [
    "The example above will return [-10 -1 8 17 26 35] which is the result of 10-20, 20-21, 30-22 etc."
   ]
  },
  {
   "cell_type": "markdown",
   "id": "8e08a2c2",
   "metadata": {},
   "source": [
    "# Multiplication"
   ]
  },
  {
   "cell_type": "raw",
   "id": "31958a24",
   "metadata": {},
   "source": [
    "The multiply() function multiplies the values from one array with the values from another array, and return the results in a new array."
   ]
  },
  {
   "cell_type": "code",
   "execution_count": 3,
   "id": "a4684af4",
   "metadata": {},
   "outputs": [
    {
     "name": "stdout",
     "output_type": "stream",
     "text": [
      "[ 200  420  660  920 1200 1500]\n"
     ]
    }
   ],
   "source": [
    "# Multiply the values in arr1 with the values in arr2:\n",
    "\n",
    "import numpy as np\n",
    "\n",
    "arr1 = np.array([10, 20, 30, 40, 50, 60])\n",
    "arr2 = np.array([20, 21, 22, 23, 24, 25])\n",
    "\n",
    "newarr = np.multiply(arr1, arr2)\n",
    "\n",
    "print(newarr) "
   ]
  },
  {
   "cell_type": "raw",
   "id": "65820aec",
   "metadata": {},
   "source": [
    "The example above will return [200 420 660 920 1200 1500] which is the result of 10*20, 20*21, 30*22 etc."
   ]
  },
  {
   "cell_type": "markdown",
   "id": "5e473135",
   "metadata": {},
   "source": [
    "# Division"
   ]
  },
  {
   "cell_type": "raw",
   "id": "04b763bc",
   "metadata": {},
   "source": [
    "The divide() function divides the values from one array with the values from another array, and return the results in a new array."
   ]
  },
  {
   "cell_type": "code",
   "execution_count": 4,
   "id": "b57faec6",
   "metadata": {},
   "outputs": [
    {
     "name": "stdout",
     "output_type": "stream",
     "text": [
      "[ 3.33333333  4.          3.          5.         25.          1.81818182]\n"
     ]
    }
   ],
   "source": [
    "# Divide the values in arr1 with the values in arr2:\n",
    "\n",
    "import numpy as np\n",
    "\n",
    "arr1 = np.array([10, 20, 30, 40, 50, 60])\n",
    "arr2 = np.array([3, 5, 10, 8, 2, 33])\n",
    "\n",
    "newarr = np.divide(arr1, arr2)\n",
    "\n",
    "print(newarr) "
   ]
  },
  {
   "cell_type": "raw",
   "id": "9a4375c9",
   "metadata": {},
   "source": [
    "The example above will return [3.33333333 4. 3. 5. 25. 1.81818182] which is the result of 10/3, 20/5, 30/10 etc."
   ]
  },
  {
   "cell_type": "markdown",
   "id": "1f4b72a1",
   "metadata": {},
   "source": [
    "# Power"
   ]
  },
  {
   "cell_type": "raw",
   "id": "f13227b1",
   "metadata": {},
   "source": [
    "The power() function rises the values from the first array to the power of the values of the second array, and return the results in a new array."
   ]
  },
  {
   "cell_type": "code",
   "execution_count": 5,
   "id": "76d62ae1",
   "metadata": {},
   "outputs": [
    {
     "name": "stdout",
     "output_type": "stream",
     "text": [
      "[      1000    3200000  729000000 -520093696       2500          0]\n"
     ]
    }
   ],
   "source": [
    "# Raise the valules in arr1 to the power of values in arr2:\n",
    "\n",
    "import numpy as np\n",
    "\n",
    "arr1 = np.array([10, 20, 30, 40, 50, 60])\n",
    "arr2 = np.array([3, 5, 6, 8, 2, 33])\n",
    "\n",
    "newarr = np.power(arr1, arr2)\n",
    "\n",
    "print(newarr) "
   ]
  },
  {
   "cell_type": "raw",
   "id": "a9e0ca6c",
   "metadata": {},
   "source": [
    "The example above will return [1000 3200000 729000000 6553600000000 2500 0] which is the result of 10*10*10, 20*20*20*20*20, 30*30*30*30*30*30 etc."
   ]
  },
  {
   "cell_type": "markdown",
   "id": "146fafdd",
   "metadata": {},
   "source": [
    "# Remainder"
   ]
  },
  {
   "cell_type": "raw",
   "id": "ec595e68",
   "metadata": {},
   "source": [
    "Both the mod() and the remainder() functions return the remainder of the values in the first array corresponding to the values in the second array, and return the results in a new array."
   ]
  },
  {
   "cell_type": "code",
   "execution_count": 6,
   "id": "bfd26594",
   "metadata": {},
   "outputs": [
    {
     "name": "stdout",
     "output_type": "stream",
     "text": [
      "[ 1  6  3  0  0 27]\n"
     ]
    }
   ],
   "source": [
    "# Return the remainders:\n",
    "\n",
    "import numpy as np\n",
    "\n",
    "arr1 = np.array([10, 20, 30, 40, 50, 60])\n",
    "arr2 = np.array([3, 7, 9, 8, 2, 33])\n",
    "\n",
    "newarr = np.mod(arr1, arr2)\n",
    "\n",
    "print(newarr) "
   ]
  },
  {
   "cell_type": "raw",
   "id": "2e1f9b6f",
   "metadata": {},
   "source": [
    "The example above will return [1 6 3 0 0 27] which is the remainders when you divide 10 with 3 (10%3), 20 with 7 (20%7) 30 with 9 (30%9) etc."
   ]
  },
  {
   "cell_type": "raw",
   "id": "ddba037a",
   "metadata": {},
   "source": [
    "You get the same result when using the remainder() function:"
   ]
  },
  {
   "cell_type": "code",
   "execution_count": 7,
   "id": "a27fd22b",
   "metadata": {},
   "outputs": [
    {
     "name": "stdout",
     "output_type": "stream",
     "text": [
      "[ 1  6  3  0  0 27]\n"
     ]
    }
   ],
   "source": [
    "# Return the remainders:\n",
    "\n",
    "import numpy as np\n",
    "\n",
    "arr1 = np.array([10, 20, 30, 40, 50, 60])\n",
    "arr2 = np.array([3, 7, 9, 8, 2, 33])\n",
    "\n",
    "newarr = np.remainder(arr1, arr2)\n",
    "\n",
    "print(newarr) "
   ]
  },
  {
   "cell_type": "markdown",
   "id": "d8095b2c",
   "metadata": {},
   "source": [
    "# Quotient and Mod"
   ]
  },
  {
   "cell_type": "raw",
   "id": "6f9facc5",
   "metadata": {},
   "source": [
    "The divmod() function return both the quotient and the the mod. The return value is two arrays, the first array contains the quotient and second array contains the mod."
   ]
  },
  {
   "cell_type": "code",
   "execution_count": 8,
   "id": "95321cf7",
   "metadata": {},
   "outputs": [
    {
     "name": "stdout",
     "output_type": "stream",
     "text": [
      "(array([ 3,  2,  3,  5, 25,  1], dtype=int32), array([ 1,  6,  3,  0,  0, 27], dtype=int32))\n"
     ]
    }
   ],
   "source": [
    "# Return the quotient and mod:\n",
    "\n",
    "import numpy as np\n",
    "\n",
    "arr1 = np.array([10, 20, 30, 40, 50, 60])\n",
    "arr2 = np.array([3, 7, 9, 8, 2, 33])\n",
    "\n",
    "newarr = np.divmod(arr1, arr2)\n",
    "\n",
    "print(newarr) "
   ]
  },
  {
   "cell_type": "raw",
   "id": "965efa7e",
   "metadata": {},
   "source": [
    "The example above will return:\n",
    "(array([3, 2, 3, 5, 25, 1]), array([1, 6, 3, 0, 0, 27]))\n",
    "The first array represents the quotients, (the integer value when you divide 10 with 3, 20 with 7, 30 with 9 etc.\n",
    "The second array represents the remainders of the same divisions."
   ]
  },
  {
   "cell_type": "markdown",
   "id": "29327500",
   "metadata": {},
   "source": [
    "# Absolute Values"
   ]
  },
  {
   "cell_type": "raw",
   "id": "5277b18d",
   "metadata": {},
   "source": [
    "Both the absolute() and the abs() functions do the same absolute operation element-wise but we should use absolute() to avoid confusion with python's inbuilt math.abs()"
   ]
  },
  {
   "cell_type": "code",
   "execution_count": 9,
   "id": "89573871",
   "metadata": {},
   "outputs": [
    {
     "name": "stdout",
     "output_type": "stream",
     "text": [
      "[1 2 1 2 3 4]\n"
     ]
    }
   ],
   "source": [
    "# Return the quotient and mod:\n",
    "import numpy as np\n",
    "\n",
    "arr = np.array([-1, -2, 1, 2, 3, -4])\n",
    "\n",
    "newarr = np.absolute(arr)\n",
    "\n",
    "print(newarr) "
   ]
  },
  {
   "cell_type": "raw",
   "id": "00aa746b",
   "metadata": {},
   "source": [
    "The example above will return [1 2 1 2 3 4]."
   ]
  }
 ],
 "metadata": {
  "kernelspec": {
   "display_name": "Python 3",
   "language": "python",
   "name": "python3"
  },
  "language_info": {
   "codemirror_mode": {
    "name": "ipython",
    "version": 3
   },
   "file_extension": ".py",
   "mimetype": "text/x-python",
   "name": "python",
   "nbconvert_exporter": "python",
   "pygments_lexer": "ipython3",
   "version": "3.8.8"
  }
 },
 "nbformat": 4,
 "nbformat_minor": 5
}
