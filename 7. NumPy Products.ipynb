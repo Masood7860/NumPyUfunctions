{
 "cells": [
  {
   "cell_type": "markdown",
   "id": "05b5a6e4",
   "metadata": {},
   "source": [
    "# Products"
   ]
  },
  {
   "cell_type": "raw",
   "id": "2381ffeb",
   "metadata": {},
   "source": [
    "To find the product of the elements in an array, use the prod() function."
   ]
  },
  {
   "cell_type": "code",
   "execution_count": 1,
   "id": "44c16715",
   "metadata": {},
   "outputs": [
    {
     "name": "stdout",
     "output_type": "stream",
     "text": [
      "24\n"
     ]
    }
   ],
   "source": [
    "# Find the product of the elements of this array:\n",
    "\n",
    "import numpy as np\n",
    "\n",
    "arr = np.array([1, 2, 3, 4])\n",
    "\n",
    "x = np.prod(arr)\n",
    "\n",
    "print(x) "
   ]
  },
  {
   "cell_type": "raw",
   "id": "11a61b07",
   "metadata": {},
   "source": [
    "Returns: 24 because 1*2*3*4 = 24"
   ]
  },
  {
   "cell_type": "code",
   "execution_count": 2,
   "id": "265a4ae5",
   "metadata": {},
   "outputs": [
    {
     "name": "stdout",
     "output_type": "stream",
     "text": [
      "40320\n"
     ]
    }
   ],
   "source": [
    "# Find the product of the elements of two arrays:\n",
    "\n",
    "import numpy as np\n",
    "\n",
    "arr1 = np.array([1, 2, 3, 4])\n",
    "arr2 = np.array([5, 6, 7, 8])\n",
    "\n",
    "x = np.prod([arr1, arr2])\n",
    "\n",
    "print(x) "
   ]
  },
  {
   "cell_type": "raw",
   "id": "1b91e261",
   "metadata": {},
   "source": [
    "Returns: 40320 because 1*2*3*4*5*6*7*8 = 40320"
   ]
  },
  {
   "cell_type": "markdown",
   "id": "848583b8",
   "metadata": {},
   "source": [
    "# Product Over an Axis"
   ]
  },
  {
   "cell_type": "raw",
   "id": "f4727cff",
   "metadata": {},
   "source": [
    "If you specify axis=1, NumPy will return the product of each array."
   ]
  },
  {
   "cell_type": "code",
   "execution_count": 3,
   "id": "77d48c92",
   "metadata": {},
   "outputs": [
    {
     "name": "stdout",
     "output_type": "stream",
     "text": [
      "[  24 1680]\n"
     ]
    }
   ],
   "source": [
    "# Perform summation in the following array over 1st axis:\n",
    "\n",
    "import numpy as np\n",
    "\n",
    "arr1 = np.array([1, 2, 3, 4])\n",
    "arr2 = np.array([5, 6, 7, 8])\n",
    "\n",
    "newarr = np.prod([arr1, arr2], axis=1)\n",
    "\n",
    "print(newarr) "
   ]
  },
  {
   "cell_type": "raw",
   "id": "a1c032b6",
   "metadata": {},
   "source": [
    "Returns: [24 1680]"
   ]
  },
  {
   "cell_type": "markdown",
   "id": "fecb6cee",
   "metadata": {},
   "source": [
    "# Cummulative Product"
   ]
  },
  {
   "cell_type": "raw",
   "id": "f706a153",
   "metadata": {},
   "source": [
    "Cummulative product means taking the product partially."
   ]
  },
  {
   "cell_type": "raw",
   "id": "96f8b2e9",
   "metadata": {},
   "source": [
    "E.g. The partial product of [1, 2, 3, 4] is [1, 1*2, 1*2*3, 1*2*3*4] = [1, 2, 6, 24]"
   ]
  },
  {
   "cell_type": "raw",
   "id": "5d2780f4",
   "metadata": {},
   "source": [
    "Perfom partial sum with the cumprod() function."
   ]
  },
  {
   "cell_type": "code",
   "execution_count": 4,
   "id": "105c8e97",
   "metadata": {},
   "outputs": [
    {
     "name": "stdout",
     "output_type": "stream",
     "text": [
      "[   5   30  210 1680]\n"
     ]
    }
   ],
   "source": [
    "# Take cummulative product of all elements for following array:\n",
    "\n",
    "import numpy as np\n",
    "\n",
    "arr = np.array([5, 6, 7, 8])\n",
    "\n",
    "newarr = np.cumprod(arr)\n",
    "\n",
    "print(newarr) "
   ]
  },
  {
   "cell_type": "raw",
   "id": "d6e1570b",
   "metadata": {},
   "source": [
    "Returns: [5 30 210 1680]"
   ]
  }
 ],
 "metadata": {
  "kernelspec": {
   "display_name": "Python 3",
   "language": "python",
   "name": "python3"
  },
  "language_info": {
   "codemirror_mode": {
    "name": "ipython",
    "version": 3
   },
   "file_extension": ".py",
   "mimetype": "text/x-python",
   "name": "python",
   "nbconvert_exporter": "python",
   "pygments_lexer": "ipython3",
   "version": "3.8.8"
  }
 },
 "nbformat": 4,
 "nbformat_minor": 5
}
