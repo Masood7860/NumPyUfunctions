{
 "cells": [
  {
   "cell_type": "markdown",
   "id": "54cfe090",
   "metadata": {},
   "source": [
    "# What are ufuncs?"
   ]
  },
  {
   "cell_type": "raw",
   "id": "06ae3abf",
   "metadata": {},
   "source": [
    "ufuncs stands for \"Universal Functions\" and they are NumPy functions that operate on the ndarray object."
   ]
  },
  {
   "cell_type": "markdown",
   "id": "570ae78d",
   "metadata": {},
   "source": [
    "# Why use ufuncs?"
   ]
  },
  {
   "cell_type": "raw",
   "id": "f0850b8c",
   "metadata": {},
   "source": [
    "ufuncs are used to implement vectorization in NumPy which is way faster than iterating over elements."
   ]
  },
  {
   "cell_type": "raw",
   "id": "5be88e03",
   "metadata": {},
   "source": [
    "They also provide broadcasting and additional methods like reduce, accumulate etc. that are very helpful for computation."
   ]
  },
  {
   "cell_type": "raw",
   "id": "17284c2f",
   "metadata": {},
   "source": [
    "ufuncs also take additional arguments, like:\n",
    "\n",
    "where boolean array or condition defining where the operations should take place.\n",
    "\n",
    "dtype defining the return type of elements.\n",
    "\n",
    "out output array where the return value should be copied."
   ]
  },
  {
   "cell_type": "markdown",
   "id": "78c9b0d7",
   "metadata": {},
   "source": [
    "# What is Vectorization?"
   ]
  },
  {
   "cell_type": "raw",
   "id": "e80deb5b",
   "metadata": {},
   "source": [
    "Converting iterative statements into a vector based operation is called vectorization."
   ]
  },
  {
   "cell_type": "raw",
   "id": "3bffdfc6",
   "metadata": {},
   "source": [
    "It is faster as modern CPUs are optimized for such operations."
   ]
  },
  {
   "cell_type": "markdown",
   "id": "1eb33e95",
   "metadata": {},
   "source": [
    "# Add the Elements of Two Lists"
   ]
  },
  {
   "cell_type": "raw",
   "id": "da11d8e9",
   "metadata": {},
   "source": [
    "list 1: [1, 2, 3, 4]\n",
    "\n",
    "list 2: [4, 5, 6, 7]\n",
    "\n",
    "One way of doing it is to iterate over both of the lists and then sum each elements."
   ]
  },
  {
   "cell_type": "code",
   "execution_count": 1,
   "id": "863e0c08",
   "metadata": {},
   "outputs": [
    {
     "name": "stdout",
     "output_type": "stream",
     "text": [
      "[5, 7, 9, 11]\n"
     ]
    }
   ],
   "source": [
    "# Without ufunc, we can use Python's built-in zip() method:\n",
    "\n",
    "x = [1, 2, 3, 4]\n",
    "y = [4, 5, 6, 7]\n",
    "z = []\n",
    "\n",
    "for i, j in zip(x, y):\n",
    "  z.append(i + j)\n",
    "print(z) "
   ]
  },
  {
   "cell_type": "raw",
   "id": "104e4a85",
   "metadata": {},
   "source": [
    "NumPy has a ufunc for this, called add(x, y) that will produce the same result."
   ]
  },
  {
   "cell_type": "code",
   "execution_count": 2,
   "id": "dc2e6af1",
   "metadata": {},
   "outputs": [
    {
     "name": "stdout",
     "output_type": "stream",
     "text": [
      "[ 5  7  9 11]\n"
     ]
    }
   ],
   "source": [
    "# With ufunc, we can use the add() function:\n",
    "\n",
    "import numpy as np\n",
    "\n",
    "x = [1, 2, 3, 4]\n",
    "y = [4, 5, 6, 7]\n",
    "z = np.add(x, y)\n",
    "\n",
    "print(z) "
   ]
  }
 ],
 "metadata": {
  "kernelspec": {
   "display_name": "Python 3",
   "language": "python",
   "name": "python3"
  },
  "language_info": {
   "codemirror_mode": {
    "name": "ipython",
    "version": 3
   },
   "file_extension": ".py",
   "mimetype": "text/x-python",
   "name": "python",
   "nbconvert_exporter": "python",
   "pygments_lexer": "ipython3",
   "version": "3.8.8"
  }
 },
 "nbformat": 4,
 "nbformat_minor": 5
}
