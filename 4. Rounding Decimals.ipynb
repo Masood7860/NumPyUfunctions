{
 "cells": [
  {
   "cell_type": "markdown",
   "id": "6932e730",
   "metadata": {},
   "source": [
    "# Rounding Decimals"
   ]
  },
  {
   "cell_type": "raw",
   "id": "088339cd",
   "metadata": {},
   "source": [
    "There are primarily five ways of rounding off decimals in NumPy:\n",
    "\n",
    "    truncation\n",
    "    fix\n",
    "    rounding\n",
    "    floor\n",
    "    ceil"
   ]
  },
  {
   "cell_type": "markdown",
   "id": "c26d46cf",
   "metadata": {},
   "source": [
    "# Truncation"
   ]
  },
  {
   "cell_type": "raw",
   "id": "43c1a6e6",
   "metadata": {},
   "source": [
    "Remove the decimals, and return the float number closest to zero. Use the trunc() and fix() functions."
   ]
  },
  {
   "cell_type": "code",
   "execution_count": 1,
   "id": "38e8f4eb",
   "metadata": {},
   "outputs": [
    {
     "name": "stdout",
     "output_type": "stream",
     "text": [
      "[-3.  3.]\n"
     ]
    }
   ],
   "source": [
    "# Truncate elements of following array:\n",
    "\n",
    "import numpy as np\n",
    "\n",
    "arr = np.trunc([-3.1666, 3.6667])\n",
    "\n",
    "print(arr) "
   ]
  },
  {
   "cell_type": "code",
   "execution_count": 2,
   "id": "9f935e28",
   "metadata": {},
   "outputs": [
    {
     "name": "stdout",
     "output_type": "stream",
     "text": [
      "[-3.  3.]\n"
     ]
    }
   ],
   "source": [
    "# Same example, using fix():\n",
    "\n",
    "import numpy as np\n",
    "\n",
    "arr = np.fix([-3.1666, 3.6667])\n",
    "\n",
    "print(arr) "
   ]
  },
  {
   "cell_type": "markdown",
   "id": "cf85c67d",
   "metadata": {},
   "source": [
    "# Rounding"
   ]
  },
  {
   "cell_type": "raw",
   "id": "94099993",
   "metadata": {},
   "source": [
    "The around() function increments preceding digit or decimal by 1 if >=5 else do nothing."
   ]
  },
  {
   "cell_type": "raw",
   "id": "eca25432",
   "metadata": {},
   "source": [
    "E.g. round off to 1 decimal point, 3.16666 is 3.2"
   ]
  },
  {
   "cell_type": "code",
   "execution_count": 3,
   "id": "4a19c379",
   "metadata": {},
   "outputs": [
    {
     "name": "stdout",
     "output_type": "stream",
     "text": [
      "3.17\n"
     ]
    }
   ],
   "source": [
    "# Round off 3.1666 to 2 decimal places:\n",
    "\n",
    "import numpy as np\n",
    "\n",
    "arr = np.around(3.1666, 2)\n",
    "\n",
    "print(arr) "
   ]
  },
  {
   "cell_type": "markdown",
   "id": "5bd10982",
   "metadata": {},
   "source": [
    "# Floor"
   ]
  },
  {
   "cell_type": "raw",
   "id": "c54726c4",
   "metadata": {},
   "source": [
    "The floor() function rounds off decimal to nearest lower integer."
   ]
  },
  {
   "cell_type": "raw",
   "id": "530e797d",
   "metadata": {},
   "source": [
    "E.g. floor of 3.166 is 3."
   ]
  },
  {
   "cell_type": "code",
   "execution_count": 4,
   "id": "7708e557",
   "metadata": {},
   "outputs": [
    {
     "name": "stdout",
     "output_type": "stream",
     "text": [
      "[-4.  3.]\n"
     ]
    }
   ],
   "source": [
    "# Floor the elements of following array:\n",
    "\n",
    "import numpy as np\n",
    "\n",
    "arr = np.floor([-3.1666, 3.6667])\n",
    "\n",
    "print(arr) "
   ]
  },
  {
   "cell_type": "markdown",
   "id": "a6b06fa3",
   "metadata": {},
   "source": [
    "# Ceil"
   ]
  },
  {
   "cell_type": "raw",
   "id": "0021b262",
   "metadata": {},
   "source": [
    "The ceil() function rounds off decimal to nearest upper integer."
   ]
  },
  {
   "cell_type": "raw",
   "id": "726e5046",
   "metadata": {},
   "source": [
    "E.g. ceil of 3.166 is 4."
   ]
  },
  {
   "cell_type": "code",
   "execution_count": 5,
   "id": "85cdfc10",
   "metadata": {},
   "outputs": [
    {
     "name": "stdout",
     "output_type": "stream",
     "text": [
      "[-3.  4.]\n"
     ]
    }
   ],
   "source": [
    "# Ceil the elements of following array:\n",
    "\n",
    "import numpy as np\n",
    "\n",
    "arr = np.ceil([-3.1666, 3.6667])\n",
    "\n",
    "print(arr) "
   ]
  }
 ],
 "metadata": {
  "kernelspec": {
   "display_name": "Python 3",
   "language": "python",
   "name": "python3"
  },
  "language_info": {
   "codemirror_mode": {
    "name": "ipython",
    "version": 3
   },
   "file_extension": ".py",
   "mimetype": "text/x-python",
   "name": "python",
   "nbconvert_exporter": "python",
   "pygments_lexer": "ipython3",
   "version": "3.8.8"
  }
 },
 "nbformat": 4,
 "nbformat_minor": 5
}
