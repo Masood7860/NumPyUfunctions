{
 "cells": [
  {
   "cell_type": "markdown",
   "id": "184bea1c",
   "metadata": {},
   "source": [
    "# Hyperbolic Functions"
   ]
  },
  {
   "cell_type": "raw",
   "id": "1e17910c",
   "metadata": {},
   "source": [
    "NumPy provides the ufuncs sinh(), cosh() and tanh() that take values in radians and produce the corresponding sinh, cosh and tanh values.."
   ]
  },
  {
   "cell_type": "code",
   "execution_count": 1,
   "id": "54b3d45b",
   "metadata": {},
   "outputs": [
    {
     "name": "stdout",
     "output_type": "stream",
     "text": [
      "2.3012989023072947\n"
     ]
    }
   ],
   "source": [
    "# Find sinh value of PI/2:\n",
    "\n",
    "import numpy as np\n",
    "\n",
    "x = np.sinh(np.pi/2)\n",
    "\n",
    "print(x) "
   ]
  },
  {
   "cell_type": "code",
   "execution_count": 2,
   "id": "34a154c2",
   "metadata": {},
   "outputs": [
    {
     "name": "stdout",
     "output_type": "stream",
     "text": [
      "[2.50917848 1.60028686 1.32460909 1.20397209]\n"
     ]
    }
   ],
   "source": [
    "# Find cosh values for all of the values in arr:\n",
    "\n",
    "import numpy as np\n",
    "\n",
    "arr = np.array([np.pi/2, np.pi/3, np.pi/4, np.pi/5])\n",
    "\n",
    "x = np.cosh(arr)\n",
    "\n",
    "print(x) "
   ]
  },
  {
   "cell_type": "markdown",
   "id": "20be32b8",
   "metadata": {},
   "source": [
    "# Finding Angles"
   ]
  },
  {
   "cell_type": "raw",
   "id": "99726702",
   "metadata": {},
   "source": [
    "Finding angles from values of hyperbolic sine, cos, tan. E.g. sinh, cosh and tanh inverse (arcsinh, arccosh, arctanh)."
   ]
  },
  {
   "cell_type": "raw",
   "id": "b0ab8d21",
   "metadata": {},
   "source": [
    "Numpy provides ufuncs arcsinh(), arccosh() and arctanh() that produce radian values for corresponding sinh, cosh and tanh values given."
   ]
  },
  {
   "cell_type": "code",
   "execution_count": 3,
   "id": "50b967f7",
   "metadata": {},
   "outputs": [
    {
     "name": "stdout",
     "output_type": "stream",
     "text": [
      "0.881373587019543\n"
     ]
    }
   ],
   "source": [
    "# Find the angle of 1.0:\n",
    "\n",
    "import numpy as np\n",
    "\n",
    "x = np.arcsinh(1.0)\n",
    "\n",
    "print(x) "
   ]
  },
  {
   "cell_type": "markdown",
   "id": "5699ea81",
   "metadata": {},
   "source": [
    "# Angles of Each Value in Arrays"
   ]
  },
  {
   "cell_type": "code",
   "execution_count": 4,
   "id": "975e9913",
   "metadata": {},
   "outputs": [
    {
     "name": "stdout",
     "output_type": "stream",
     "text": [
      "[0.10033535 0.20273255 0.54930614]\n"
     ]
    }
   ],
   "source": [
    "# Find the angle for all of the tanh values in array:\n",
    "\n",
    "import numpy as np\n",
    "\n",
    "arr = np.array([0.1, 0.2, 0.5])\n",
    "\n",
    "x = np.arctanh(arr)\n",
    "\n",
    "print(x) "
   ]
  }
 ],
 "metadata": {
  "kernelspec": {
   "display_name": "Python 3",
   "language": "python",
   "name": "python3"
  },
  "language_info": {
   "codemirror_mode": {
    "name": "ipython",
    "version": 3
   },
   "file_extension": ".py",
   "mimetype": "text/x-python",
   "name": "python",
   "nbconvert_exporter": "python",
   "pygments_lexer": "ipython3",
   "version": "3.8.8"
  }
 },
 "nbformat": 4,
 "nbformat_minor": 5
}
